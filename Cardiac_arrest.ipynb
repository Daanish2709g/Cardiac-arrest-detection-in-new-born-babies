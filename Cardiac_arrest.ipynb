{
  "nbformat": 4,
  "nbformat_minor": 0,
  "metadata": {
    "colab": {
      "provenance": [],
      "name": "Cardiac arrest",
      "authorship_tag": "ABX9TyMA+pUiYIryo01GPOfk8/AI",
      "include_colab_link": true
    },
    "kernelspec": {
      "name": "python3",
      "display_name": "Python 3"
    },
    "language_info": {
      "name": "python"
    }
  },
  "cells": [
    {
      "cell_type": "markdown",
      "metadata": {
        "id": "view-in-github",
        "colab_type": "text"
      },
      "source": [
        "<a href=\"https://colab.research.google.com/github/Daanish2709g/Cardiac-arrest-detection-in-new-born-babies/blob/main/Cardiac_arrest.ipynb\" target=\"_parent\"><img src=\"https://colab.research.google.com/assets/colab-badge.svg\" alt=\"Open In Colab\"/></a>"
      ]
    },
    {
      "cell_type": "code",
      "source": [
        "!apt-get install -y xvfb\n",
        "!pip install pyvirtualdisplay"
      ],
      "metadata": {
        "colab": {
          "base_uri": "https://localhost:8080/"
        },
        "id": "KF472zgXGssw",
        "outputId": "bfcd3553-0714-49b1-cd8d-d5010f10fc18"
      },
      "execution_count": null,
      "outputs": [
        {
          "output_type": "stream",
          "name": "stdout",
          "text": [
            "Reading package lists... Done\n",
            "Building dependency tree... Done\n",
            "Reading state information... Done\n",
            "xvfb is already the newest version (2:21.1.4-2ubuntu1.7~22.04.11).\n",
            "0 upgraded, 0 newly installed, 0 to remove and 49 not upgraded.\n",
            "Requirement already satisfied: pyvirtualdisplay in /usr/local/lib/python3.10/dist-packages (3.0)\n"
          ]
        }
      ]
    },
    {
      "cell_type": "markdown",
      "source": [],
      "metadata": {
        "id": "0zl81fLFPNSj"
      }
    },
    {
      "cell_type": "code",
      "source": [
        "!pip install pandas scikit-learn imbalanced-learn matplotlib\n"
      ],
      "metadata": {
        "colab": {
          "base_uri": "https://localhost:8080/"
        },
        "id": "dlE-ITHaIeor",
        "outputId": "da3558cd-4ff2-4f45-d2f9-2853dbc31eef"
      },
      "execution_count": null,
      "outputs": [
        {
          "output_type": "stream",
          "name": "stdout",
          "text": [
            "Requirement already satisfied: pandas in /usr/local/lib/python3.10/dist-packages (2.1.4)\n",
            "Requirement already satisfied: scikit-learn in /usr/local/lib/python3.10/dist-packages (1.3.2)\n",
            "Requirement already satisfied: imbalanced-learn in /usr/local/lib/python3.10/dist-packages (0.12.3)\n",
            "Requirement already satisfied: matplotlib in /usr/local/lib/python3.10/dist-packages (3.7.1)\n",
            "Requirement already satisfied: numpy<2,>=1.22.4 in /usr/local/lib/python3.10/dist-packages (from pandas) (1.26.4)\n",
            "Requirement already satisfied: python-dateutil>=2.8.2 in /usr/local/lib/python3.10/dist-packages (from pandas) (2.8.2)\n",
            "Requirement already satisfied: pytz>=2020.1 in /usr/local/lib/python3.10/dist-packages (from pandas) (2024.1)\n",
            "Requirement already satisfied: tzdata>=2022.1 in /usr/local/lib/python3.10/dist-packages (from pandas) (2024.1)\n",
            "Requirement already satisfied: scipy>=1.5.0 in /usr/local/lib/python3.10/dist-packages (from scikit-learn) (1.13.1)\n",
            "Requirement already satisfied: joblib>=1.1.1 in /usr/local/lib/python3.10/dist-packages (from scikit-learn) (1.4.2)\n",
            "Requirement already satisfied: threadpoolctl>=2.0.0 in /usr/local/lib/python3.10/dist-packages (from scikit-learn) (3.5.0)\n",
            "Requirement already satisfied: contourpy>=1.0.1 in /usr/local/lib/python3.10/dist-packages (from matplotlib) (1.2.1)\n",
            "Requirement already satisfied: cycler>=0.10 in /usr/local/lib/python3.10/dist-packages (from matplotlib) (0.12.1)\n",
            "Requirement already satisfied: fonttools>=4.22.0 in /usr/local/lib/python3.10/dist-packages (from matplotlib) (4.53.1)\n",
            "Requirement already satisfied: kiwisolver>=1.0.1 in /usr/local/lib/python3.10/dist-packages (from matplotlib) (1.4.5)\n",
            "Requirement already satisfied: packaging>=20.0 in /usr/local/lib/python3.10/dist-packages (from matplotlib) (24.1)\n",
            "Requirement already satisfied: pillow>=6.2.0 in /usr/local/lib/python3.10/dist-packages (from matplotlib) (9.4.0)\n",
            "Requirement already satisfied: pyparsing>=2.3.1 in /usr/local/lib/python3.10/dist-packages (from matplotlib) (3.1.4)\n",
            "Requirement already satisfied: six>=1.5 in /usr/local/lib/python3.10/dist-packages (from python-dateutil>=2.8.2->pandas) (1.16.0)\n"
          ]
        }
      ]
    },
    {
      "cell_type": "code",
      "source": [
        "import tkinter as tk\n",
        "from tkinter import filedialog, messagebox, simpledialog\n",
        "import pandas as pd\n",
        "from sklearn.model_selection import train_test_split\n",
        "from sklearn.preprocessing import LabelEncoder, StandardScaler\n",
        "from sklearn.linear_model import LogisticRegression\n",
        "from sklearn.tree import DecisionTreeClassifier\n",
        "from sklearn.ensemble import RandomForestClassifier\n",
        "from sklearn.svm import SVC\n",
        "from sklearn.neighbors import KNeighborsClassifier\n",
        "from sklearn.naive_bayes import GaussianNB\n",
        "from sklearn.metrics import accuracy_score, recall_score, confusion_matrix\n",
        "from matplotlib.backends.backend_tkagg import FigureCanvasTkAgg\n",
        "import matplotlib.pyplot as plt\n",
        "from imblearn.over_sampling import SMOTE\n",
        "import math\n"
      ],
      "metadata": {
        "id": "4cCJKFW9JOrn"
      },
      "execution_count": null,
      "outputs": []
    },
    {
      "cell_type": "code",
      "source": [
        "class Cardiac_arrest:\n",
        "    def __init__(self, root):\n",
        "        # Initialize the main window\n",
        "        self.root = root\n",
        "        self.root.title(\"Cardiac Arrest in Newborn Babies\")\n",
        "        self.root.geometry(\"800x800\")\n",
        "\n",
        "        # Label and button to load the CSV file\n",
        "        self.file_label = tk.Label(root, text=\"Select a CSV file:\")\n",
        "        self.file_label.pack()\n",
        "        self.file_button = tk.Button(root, text=\"Browse\", command=self.load_file)\n",
        "        self.file_button.pack()\n",
        "\n",
        "        # Button to preprocess data (disabled until a file is loaded)\n",
        "        self.preprocess_button = tk.Button(root, text=\"Preprocess Data\", command=self.preprocess_data, state=tk.DISABLED)\n",
        "        self.preprocess_button.pack()\n",
        "\n",
        "        # Button to perform EDA (disabled until a file is loaded)\n",
        "        self.eda_button = tk.Button(root, text=\"Perform EDA\", command=self.perform_eda, state=tk.DISABLED)\n",
        "        self.eda_button.pack()\n",
        "\n",
        "        # Frame to hold algorithm buttons\n",
        "        self.algorithms_frame = tk.Frame(root)\n",
        "        self.algorithms_frame.pack()\n",
        "\n",
        "        # Buttons to run different ML algorithms (disabled until data is preprocessed)\n",
        "        self.logreg_button = tk.Button(self.algorithms_frame, text=\"Logistic Regression\", command=lambda: self.run_ml(\"Logistic Regression\"), state=tk.DISABLED)\n",
        "        self.logreg_button.grid(row=0, column=0, padx=5, pady=5)\n",
        "\n",
        "        self.dtree_button = tk.Button(self.algorithms_frame, text=\"Decision Tree\", command=lambda: self.run_ml(\"Decision Tree\"), state=tk.DISABLED)\n",
        "        self.dtree_button.grid(row=0, column=1, padx=5, pady=5)\n",
        "\n",
        "        self.rf_button = tk.Button(self.algorithms_frame, text=\"Random Forest\", command=lambda: self.run_ml(\"Random Forest\"), state=tk.DISABLED)\n",
        "        self.rf_button.grid(row=0, column=2, padx=5, pady=5)\n",
        "\n",
        "        self.svm_button = tk.Button(self.algorithms_frame, text=\"SVM\", command=lambda: self.run_ml(\"SVM\"), state=tk.DISABLED)\n",
        "        self.svm_button.grid(row=0, column=3, padx=5, pady=5)\n",
        "\n",
        "        self.knn_button = tk.Button(self.algorithms_frame, text=\"KNN\", command=lambda: self.run_ml(\"KNN\"), state=tk.DISABLED)\n",
        "        self.knn_button.grid(row=1, column=0, padx=5, pady=5)\n",
        "\n",
        "        self.nb_button = tk.Button(self.algorithms_frame, text=\"Naive Bayes\", command=lambda: self.run_ml(\"Naive Bayes\"), state=tk.DISABLED)\n",
        "        self.nb_button.grid(row=1, column=1, padx=5, pady=5)\n",
        "\n",
        "        # Text widget to display results\n",
        "        self.result_text = tk.Text(root, height=10, width=80)\n",
        "        self.result_text.pack()\n",
        "\n",
        "        # Figure and canvas to display plots\n",
        "        self.figure = plt.Figure(figsize=(10, 10), dpi=100)\n",
        "        self.canvas = FigureCanvasTkAgg(self.figure, root)\n",
        "        self.canvas.get_tk_widget().pack()\n",
        "\n",
        "        # Variables to hold data and model training/testing splits\n",
        "        self.df = None\n",
        "        self.X_train, self.X_test, self.y_train, self.y_test = None, None, None, None\n",
        "        self.target_column = None\n"
      ],
      "metadata": {
        "id": "5DvzJaAGJR-S"
      },
      "execution_count": null,
      "outputs": []
    },
    {
      "cell_type": "code",
      "source": [
        "    def load_file(self):\n",
        "        # Load the CSV file and verify the target column\n",
        "        file_path = filedialog.askopenfilename()\n",
        "        if file_path:\n",
        "            self.df = pd.read_csv(file_path)\n",
        "            self.target_column = simpledialog.askstring(\"Input\", \"Enter the name of the target column:\")\n",
        "            if self.target_column in self.df.columns:\n",
        "                self.preprocess_button.config(state=tk.NORMAL)\n",
        "                self.eda_button.config(state=tk.NORMAL)\n",
        "                messagebox.showinfo(\"File Loaded\", \"CSV file has been loaded successfully.\")\n",
        "            else:\n",
        "                messagebox.showerror(\"Error\", \"Target column not found in the CSV file.\")\n",
        "\n",
        "    def preprocess_data(self):\n",
        "        # Preprocess the data: handle missing values, encode labels, split data, apply SMOTE, and scale features\n",
        "        if self.df is not None and self.target_column in self.df.columns:\n",
        "            # Handle missing values\n",
        "            for column in self.df.select_dtypes(include=['number']).columns:\n",
        "                self.df[column].fillna(self.df[column].mean(), inplace=True)\n",
        "            for column in self.df.select_dtypes(include=['object']).columns:\n",
        "                self.df[column].fillna(self.df[column].mode()[0], inplace=True)\n",
        "\n",
        "            # Encode categorical variables\n",
        "            label_encoders = {}\n",
        "            for column in self.df.select_dtypes(include=['object']).columns:\n",
        "                label_encoders[column] = LabelEncoder()\n",
        "                self.df[column] = label_encoders[column].fit_transform(self.df[column])\n",
        "\n",
        "            X = self.df.drop(self.target_column, axis=1)\n",
        "            y = self.df[self.target_column]\n",
        "            self.X_train, self.X_test, self.y_train, self.y_test = train_test_split(X, y, test_size=0.3, random_state=42)\n",
        "\n",
        "            # Apply SMOTE for oversampling (if needed)\n",
        "            smote = SMOTE(random_state=42)\n",
        "            self.X_train, self.y_train = smote.fit_resample(self.X_train, self.y_train)\n",
        "\n",
        "            # Scale features\n",
        "            scaler = StandardScaler()\n",
        "            self.X_train = scaler.fit_transform(self.X_train)\n",
        "            self.X_test = scaler.transform(self.X_test)\n",
        "\n",
        "            # Enable algorithm buttons after preprocessing\n",
        "            self.logreg_button.config(state=tk.NORMAL)\n",
        "            self.dtree_button.config(state=tk.NORMAL)\n",
        "            self.rf_button.config(state=tk.NORMAL)\n",
        "            self.svm_button.config(state=tk.NORMAL)\n",
        "            self.knn_button.config(state=tk.NORMAL)\n",
        "            self.nb_button.config(state=tk.NORMAL)\n",
        "\n",
        "            messagebox.showinfo(\"Preprocessing Done\", \"Data preprocessing is completed.\")\n",
        "        else:\n",
        "            messagebox.showerror(\"Error\", \"No data to preprocess.\")\n",
        "\n",
        "    def perform_eda(self):\n",
        "        # Perform Exploratory Data Analysis (EDA)\n",
        "        if self.df is not None:\n",
        "            stats = self.df.describe().to_string()\n",
        "            self.result_text.delete(1.0, tk.END)\n",
        "            self.result_text.insert(tk.END, \"Basic Statistics:\\n\")\n",
        "            self.result_text.insert(tk.END, stats + \"\\n\\n\")\n",
        "\n",
        "            self.figure.clear()\n",
        "            num_columns = self.df.select_dtypes(include=['number']).columns\n",
        "            num_plots = len(num_columns)\n",
        "            ncols = 2\n",
        "            nrows = math.ceil(num_plots / ncols)\n",
        "\n",
        "            fig, axes = self.figure.subplots(nrows=nrows, ncols=ncols)\n",
        "            axes = axes.flatten()\n",
        "\n",
        "            for i, col in enumerate(num_columns):\n",
        "                self.df[col].hist(bins=20, ax=axes[i])\n",
        "                axes[i].set_title(col)\n",
        "\n",
        "            for j in range(i + 1, len(axes)):\n",
        "                self.figure.delaxes(axes[j])\n",
        "\n",
        "            plt.tight_layout()\n",
        "            self.canvas.draw()\n",
        "        else:\n",
        "            messagebox.showerror(\"Error\", \"No data to analyze.\")\n"
      ],
      "metadata": {
        "id": "S94jiWSdJwHg"
      },
      "execution_count": null,
      "outputs": []
    },
    {
      "cell_type": "code",
      "source": [
        "    def evaluate_model(self, model):\n",
        "        # Evaluate the model using accuracy, recall, and specificity\n",
        "        y_pred = model.predict(self.X_test)\n",
        "        accuracy = accuracy_score(self.y_test, y_pred)\n",
        "        recall = recall_score(self.y_test, y_pred, average='macro')\n",
        "\n",
        "        # Handle confusion matrix for both binary and multiclass classification\n",
        "        cm = confusion_matrix(self.y_test, y_pred)\n",
        "        if cm.shape == (2, 2):\n",
        "            tn, fp, fn, tp = cm.ravel()\n",
        "            specificity = tn / (tn + fp)\n",
        "        else:\n",
        "            specificity = None  # Specificity isn't well-defined for multiclass without adjustments\n",
        "\n",
        "        return accuracy, recall, specificity\n",
        "\n",
        "    def run_ml(self, model_name):\n",
        "        # Train and evaluate the selected machine learning model\n",
        "        models = {\n",
        "            \"Logistic Regression\": LogisticRegression(),\n",
        "            \"Decision Tree\": DecisionTreeClassifier(),\n",
        "            \"Random Forest\": RandomForestClassifier(),\n",
        "            \"SVM\": SVC(),\n",
        "            \"KNN\": KNeighborsClassifier(),\n",
        "            \"Naive Bayes\": GaussianNB()\n",
        "        }\n",
        "\n",
        "        model = models[model_name]\n",
        "        model.fit(self.X_train, self.y_train)\n",
        "        accuracy, recall, specificity = self.evaluate_model(model)\n",
        "\n",
        "        self.display_results(model_name, accuracy, recall, specificity)\n",
        "        self.plot_results(model_name, accuracy, recall, specificity)\n",
        "\n",
        "    def display_results(self, model_name, accuracy, recall, specificity):\n",
        "        # Display the results in the text widget\n",
        "        self.result_text.delete(1.0, tk.END)\n",
        "        self.result_text.insert(tk.END, f\"{model_name}:\\n\")\n",
        "        self.result_text.insert(tk.END, f\"  Accuracy: {accuracy:.2f}\\n\")\n",
        "        self.result_text.insert(tk.END, f\"  Recall: {recall:.2f}\\n\")\n",
        "        if specificity is not None:\n",
        "            self.result_text.insert(tk.END, f\"  Specificity: {specificity:.2f}\\n\")\n",
        "\n"
      ],
      "metadata": {
        "id": "CxaLdpvQJzG_"
      },
      "execution_count": null,
      "outputs": []
    }
  ]
}